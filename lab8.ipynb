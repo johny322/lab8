{
 "cells": [
  {
   "cell_type": "markdown",
   "metadata": {},
   "source": [
    "# Решение начально-краевой задачи с использованием конечно-разностной схемы"
   ]
  },
  {
   "cell_type": "markdown",
   "metadata": {},
   "source": [
    "### Пример 1. Уравнение параболического типа\n",
    " \\begin{cases}  \\frac{\\partial u }{\\partial t} =  \\alpha \\frac{\\partial^2 u}{\\partial x^2} ,  \\alpha > 0\\\\ u(0,t)=0\\\\  u(1,t)=0\\\\ u(x,0) = sin(2 \\pi x) \\end{cases}\n",
    "Аналитическое решение: $ u(x,t) = exp(-4 \\pi^2 \\alpha t )sin(2\\pi x) $\n",
    "\n",
    "Теперь построим в области $D = \\{(x,t)|0<x<a,0<t<T\\} $ равномерную\n",
    "сетку с шагом h по направлению x и шагом $\\tau$ по направлению t.\n",
    "\n",
    "Обозначим узлы сетки через $(x_0,t_0),…(x_i,t_j),…,(x_n,t_m)$, а приближённые значения функции $u(x,t)$ в этих узлах через  ${u_i^j} $ \n",
    "## Теоретическая часть:\n",
    "### Неявная схема:\n",
    "$$ \n",
    "\\gamma  {u_{m+1}^{n+1}} - (1+2\\gamma ){u_m^{n+1}}+ \\gamma  {u_{m-1}^{n+1}}=-{u_m^n}\n",
    "\\\\m = 1,2,...,M-1,\n",
    "\\\\{u_{0}^{n+1}}= {\\mu_1(t_{n+1}) }, {u_{M}^{n+1}}= {\\mu_2(t_{n+1}) }\n",
    "\\\\n = 0,1,...,N-1,\n",
    "\\\\\\gamma =  \\frac{\\tau }{h^2} \n",
    "\\\\\\mu_1, \\mu_2 - начальные краевые условия первого рода.\n",
    "$$\n",
    "### Метод разностной прогонки:\n",
    "$$\n",
    "{A_m}{u_{m-1}^{n+1}} - {B_m}{u_{m}^{n+1}} + {C_m}{u_{m+1}^{n+1}} = {\\phi_m}\n",
    "\\\\{u_{0}^{n+1}} = {\\lambda_1} {u_{1}^{n+1}} + {\\rho_1}\n",
    "\\\\{u_{M}^{n+1}} = {\\lambda_2} {u_{M-1}^{n+1}} + {\\rho_2},\n",
    "\\\\где \\  \\ {A_m}=\\gamma, {B_m}=1 + 2\\gamma, {C_m}=\\gamma\n",
    "\\\\{\\phi_m} = - {u_{m}^{n}}\n",
    "\\\\{\\lambda_1}=0,{\\rho_1}={\\mu_1(t_{n+1}) }\n",
    "\\\\{\\lambda_2}=0,{\\rho_2}={\\mu_2(t_{n+1}) }\n",
    "$$\n",
    "Будем решать методом прогонки:\n",
    "$$\n",
    "\\\\{\\alpha_{m+1}}=  \\frac{{B_m} }{{C_m}-{A_m}{\\alpha_{m}}} ,\n",
    "\\\\{\\beta_{m+1} }=  \\frac{{\\phi_m} -{A_m}{B_m} }{{A_m}{\\alpha_{m}} - {C_m}} ,\n",
    "\\\\m = 1,...,M-1.\n",
    "$$\n",
    "Значение сеточной функции определим по формулам,\n",
    "$$\n",
    "\\\\{u_m} = {\\alpha_{m+1}} {u_{m+1}^{n}} + {\\beta_{m+1} }, m = M-1,...,1.\n",
    "\\\\где \\  \\ {u_{M}^{n+1}}={\\mu_2(t_{n+1}) }\n",
    "$$"
   ]
  },
  {
   "cell_type": "markdown",
   "metadata": {},
   "source": [
    "## Описание программы:\n",
    "### lab8.cpp\n",
    "Задается количество узлов\n",
    "n и m по переменным x и t, затем все входные параметры чтобы запустить метод прогонки, задаем промежуток, на котором будет решаться уравнение. Далее\n",
    "задаем точное решение U(double x, double t), условие в начальный момент времени double F(double x)( оно нам понадобится что бы начать вычисления), краевые условия M1(double t), double M2(double t). В функции int main() задаем шаги по x и t (he и Te), потом задаем левую часть A, B, C и 2 сетки узлов double\n",
    "x[n + 1] и double t[m + 1]. Теперь зададим массивы для вычислений с помощью\n",
    "метода прогонки double alpha[n + 1], double beta[n + 1], double u[n + 1][m + 1],\n",
    "double u2[2 * n + 1][2 * m + 1], далее мы задаем условия для начала вычислений\n",
    "и все вычислительные операции у нас производятся в alpha[ ], beta[ ], u[i][j + 1]\n",
    "### anim.py\n",
    "Не получилось сделать 3D анимацию поэтому сделал в 2D, при фиксированных значениях x и t (графики U(x),U(t)).\n",
    "###  lab8.py\n",
    "Построение трех графиков: практического решения, аналитического решения, разностный график.\n"
   ]
  },
  {
   "cell_type": "code",
   "execution_count": null,
   "metadata": {},
   "outputs": [],
   "source": []
  },
  {
   "cell_type": "code",
   "execution_count": null,
   "metadata": {},
   "outputs": [],
   "source": []
  },
  {
   "cell_type": "code",
   "execution_count": null,
   "metadata": {},
   "outputs": [],
   "source": []
  }
 ],
 "metadata": {
  "kernelspec": {
   "display_name": "Python 3",
   "language": "python",
   "name": "python3"
  },
  "language_info": {
   "codemirror_mode": {
    "name": "ipython",
    "version": 3
   },
   "file_extension": ".py",
   "mimetype": "text/x-python",
   "name": "python",
   "nbconvert_exporter": "python",
   "pygments_lexer": "ipython3",
   "version": "3.7.6"
  }
 },
 "nbformat": 4,
 "nbformat_minor": 4
}
